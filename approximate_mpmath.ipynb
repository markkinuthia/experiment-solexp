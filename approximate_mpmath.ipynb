{
 "cells": [
  {
   "cell_type": "markdown",
   "id": "e7be4805-eff1-49e8-a8c3-30cc0a938d15",
   "metadata": {},
   "source": [
    "# Arbitrary precision rational Remez"
   ]
  },
  {
   "cell_type": "markdown",
   "id": "e3cfb6cb-8eba-4aca-a141-420daf09c46f",
   "metadata": {},
   "source": [
    "## Prelude"
   ]
  },
  {
   "cell_type": "code",
   "execution_count": 3,
   "id": "fc2b5784-8ca8-4326-9bd5-87bdb88d9209",
   "metadata": {},
   "outputs": [
    {
     "name": "stdout",
     "output_type": "stream",
     "text": [
      "Requirement already satisfied: matplotlib in c:\\users\\markk\\appdata\\roaming\\python\\python310\\site-packages (3.5.1)\n",
      "Requirement already satisfied: numpy in c:\\python310\\lib\\site-packages (1.22.3)\n",
      "Requirement already satisfied: mpmath in c:\\users\\markk\\appdata\\roaming\\python\\python310\\site-packages (1.2.1)\n",
      "Requirement already satisfied: watermark in c:\\users\\markk\\appdata\\roaming\\python\\python310\\site-packages (2.3.0)\n",
      "Requirement already satisfied: kiwisolver>=1.0.1 in c:\\users\\markk\\appdata\\roaming\\python\\python310\\site-packages (from matplotlib) (1.4.2)\n",
      "Requirement already satisfied: cycler>=0.10 in c:\\users\\markk\\appdata\\roaming\\python\\python310\\site-packages (from matplotlib) (0.11.0)\n",
      "Requirement already satisfied: pyparsing>=2.2.1 in c:\\users\\markk\\appdata\\roaming\\python\\python310\\site-packages (from matplotlib) (3.0.7)\n",
      "Requirement already satisfied: python-dateutil>=2.7 in c:\\users\\markk\\appdata\\roaming\\python\\python310\\site-packages (from matplotlib) (2.8.2)\n",
      "Requirement already satisfied: packaging>=20.0 in c:\\users\\markk\\appdata\\roaming\\python\\python310\\site-packages (from matplotlib) (21.3)\n",
      "Requirement already satisfied: fonttools>=4.22.0 in c:\\users\\markk\\appdata\\roaming\\python\\python310\\site-packages (from matplotlib) (4.32.0)\n",
      "Requirement already satisfied: pillow>=6.2.0 in c:\\python310\\lib\\site-packages (from matplotlib) (9.1.0)\n",
      "Requirement already satisfied: ipython in c:\\users\\markk\\appdata\\roaming\\python\\python310\\site-packages (from watermark) (8.2.0)\n",
      "Requirement already satisfied: six>=1.5 in c:\\users\\markk\\appdata\\roaming\\python\\python310\\site-packages (from python-dateutil>=2.7->matplotlib) (1.16.0)\n",
      "Requirement already satisfied: prompt-toolkit!=3.0.0,!=3.0.1,<3.1.0,>=2.0.0 in c:\\users\\markk\\appdata\\roaming\\python\\python310\\site-packages (from ipython->watermark) (3.0.29)\n",
      "Requirement already satisfied: pickleshare in c:\\users\\markk\\appdata\\roaming\\python\\python310\\site-packages (from ipython->watermark) (0.7.5)\n",
      "Requirement already satisfied: traitlets>=5 in c:\\users\\markk\\appdata\\roaming\\python\\python310\\site-packages (from ipython->watermark) (5.1.1)\n",
      "Requirement already satisfied: pygments>=2.4.0 in c:\\users\\markk\\appdata\\roaming\\python\\python310\\site-packages (from ipython->watermark) (2.11.2)\n",
      "Requirement already satisfied: colorama in c:\\users\\markk\\appdata\\roaming\\python\\python310\\site-packages (from ipython->watermark) (0.4.4)\n",
      "Requirement already satisfied: matplotlib-inline in c:\\users\\markk\\appdata\\roaming\\python\\python310\\site-packages (from ipython->watermark) (0.1.3)\n",
      "Requirement already satisfied: stack-data in c:\\users\\markk\\appdata\\roaming\\python\\python310\\site-packages (from ipython->watermark) (0.2.0)\n",
      "Requirement already satisfied: setuptools>=18.5 in c:\\users\\markk\\appdata\\roaming\\python\\python310\\site-packages (from ipython->watermark) (62.0.0)\n",
      "Requirement already satisfied: decorator in c:\\users\\markk\\appdata\\roaming\\python\\python310\\site-packages (from ipython->watermark) (5.1.1)\n",
      "Requirement already satisfied: backcall in c:\\users\\markk\\appdata\\roaming\\python\\python310\\site-packages (from ipython->watermark) (0.2.0)\n",
      "Requirement already satisfied: jedi>=0.16 in c:\\users\\markk\\appdata\\roaming\\python\\python310\\site-packages (from ipython->watermark) (0.18.1)\n",
      "Requirement already satisfied: parso<0.9.0,>=0.8.0 in c:\\users\\markk\\appdata\\roaming\\python\\python310\\site-packages (from jedi>=0.16->ipython->watermark) (0.8.3)\n",
      "Requirement already satisfied: wcwidth in c:\\users\\markk\\appdata\\roaming\\python\\python310\\site-packages (from prompt-toolkit!=3.0.0,!=3.0.1,<3.1.0,>=2.0.0->ipython->watermark) (0.2.5)\n",
      "Requirement already satisfied: pure-eval in c:\\users\\markk\\appdata\\roaming\\python\\python310\\site-packages (from stack-data->ipython->watermark) (0.2.2)\n",
      "Requirement already satisfied: executing in c:\\users\\markk\\appdata\\roaming\\python\\python310\\site-packages (from stack-data->ipython->watermark) (0.8.3)\n",
      "Requirement already satisfied: asttokens in c:\\users\\markk\\appdata\\roaming\\python\\python310\\site-packages (from stack-data->ipython->watermark) (2.0.5)\n"
     ]
    },
    {
     "name": "stderr",
     "output_type": "stream",
     "text": [
      "WARNING: Ignoring invalid distribution -p (c:\\python310\\lib\\site-packages)\n",
      "WARNING: Ignoring invalid distribution -p (c:\\python310\\lib\\site-packages)\n",
      "WARNING: Ignoring invalid distribution -ip (c:\\python310\\lib\\site-packages)\n",
      "WARNING: Ignoring invalid distribution - (c:\\python310\\lib\\site-packages)\n",
      "WARNING: Ignoring invalid distribution -p (c:\\python310\\lib\\site-packages)\n",
      "WARNING: Ignoring invalid distribution -p (c:\\python310\\lib\\site-packages)\n",
      "WARNING: Ignoring invalid distribution -ip (c:\\python310\\lib\\site-packages)\n",
      "WARNING: Ignoring invalid distribution - (c:\\python310\\lib\\site-packages)\n",
      "WARNING: Ignoring invalid distribution -p (c:\\python310\\lib\\site-packages)\n",
      "WARNING: Ignoring invalid distribution -p (c:\\python310\\lib\\site-packages)\n",
      "WARNING: Ignoring invalid distribution -ip (c:\\python310\\lib\\site-packages)\n",
      "WARNING: Ignoring invalid distribution - (c:\\python310\\lib\\site-packages)\n",
      "WARNING: Ignoring invalid distribution -p (c:\\python310\\lib\\site-packages)\n",
      "WARNING: Ignoring invalid distribution -p (c:\\python310\\lib\\site-packages)\n",
      "WARNING: Ignoring invalid distribution -ip (c:\\python310\\lib\\site-packages)\n",
      "WARNING: Ignoring invalid distribution - (c:\\python310\\lib\\site-packages)\n",
      "WARNING: You are using pip version 21.2.4; however, version 22.0.4 is available.\n",
      "You should consider upgrading via the 'C:\\Python310\\python.exe -m pip install --upgrade pip' command.\n"
     ]
    }
   ],
   "source": [
    "!pip install matplotlib numpy mpmath watermark"
   ]
  },
  {
   "cell_type": "code",
   "execution_count": 4,
   "id": "76e4d226-3c5a-4da8-ba5d-673518dc6e80",
   "metadata": {},
   "outputs": [],
   "source": [
    "%matplotlib inline\n",
    "\n",
    "import itertools\n",
    "import math\n",
    "\n",
    "import matplotlib\n",
    "import numpy as np\n",
    "from mpmath import mp\n",
    "import matplotlib.pyplot as plt\n",
    "import matplotlib as mpl\n",
    "from ipywidgets import interact, interactive, fixed, interact_manual"
   ]
  },
  {
   "cell_type": "code",
   "execution_count": 5,
   "id": "46b660b0-b1a2-4a45-ba6c-15a81b75bffe",
   "metadata": {},
   "outputs": [],
   "source": [
    "# Defaults more suitable for 4K monitors\n",
    "mpl.rcParams[\"figure.dpi\"] = 120\n",
    "mpl.rcParams[\"figure.figsize\"] = [6.0, 4.0]\n",
    "# Change font to match Latex\n",
    "mpl.rcParams['mathtext.fontset'] = 'cm'\n",
    "mpl.rcParams['font.family'] = 'CMU Serif'\n",
    "# Export settings\n",
    "mpl.rcParams[\"savefig.bbox\"] = 'tight'\n",
    "mpl.rcParams[\"savefig.dpi\"] = 300\n",
    "mpl.rcParams[\"savefig.facecolor\"] = 'white'\n",
    "# High compression lossless WebP for animations using ffmpeg -> libwebp\n",
    "mpl.rcParams[\"animation.writer\"] = 'ffmpeg'\n",
    "mpl.rcParams[\"animation.codec\"] = 'webp'\n",
    "mpl.rcParams[\"animation.ffmpeg_args\"] = [\"-lossless\", \"1\", \"-qscale\", \"100\"]\n",
    "# Use anim.save(\"movie.webp\", fps=60)"
   ]
  },
  {
   "cell_type": "code",
   "execution_count": 6,
   "id": "fe668d05-1a85-413a-afd1-2d3cb63a7a15",
   "metadata": {},
   "outputs": [],
   "source": [
    "# Use a thousand bits of precision in mp\n",
    "mp.prec = 1000"
   ]
  },
  {
   "cell_type": "code",
   "execution_count": 7,
   "id": "e457da80-b12d-4a99-a7d6-9ad6471ce76e",
   "metadata": {},
   "outputs": [
    {
     "name": "stdout",
     "output_type": "stream",
     "text": [
      "Python implementation: CPython\n",
      "Python version       : 3.10.2\n",
      "IPython version      : 8.2.0\n",
      "\n",
      "Compiler    : MSC v.1929 64 bit (AMD64)\n",
      "OS          : Windows\n",
      "Release     : 10\n",
      "Machine     : AMD64\n",
      "Processor   : Intel64 Family 6 Model 60 Stepping 3, GenuineIntel\n",
      "CPU cores   : 8\n",
      "Architecture: 64bit\n",
      "\n",
      "numpy     : 1.22.3\n",
      "sys       : 3.10.2 (tags/v3.10.2:a58ebcc, Jan 17 2022, 14:12:15) [MSC v.1929 64 bit (AMD64)]\n",
      "matplotlib: 3.5.1\n",
      "\n"
     ]
    }
   ],
   "source": [
    "import watermark.watermark as watermark\n",
    "print(watermark(machine=True, iso8601=True, python=True, iversions=True, globals_=globals()))"
   ]
  },
  {
   "cell_type": "markdown",
   "id": "806fb68c-511f-4c73-a82f-acdaff7a469c",
   "metadata": {},
   "source": [
    "## Target"
   ]
  },
  {
   "cell_type": "code",
   "execution_count": 8,
   "id": "8849441c-9399-4865-94ff-e872d99c10ba",
   "metadata": {},
   "outputs": [],
   "source": [
    "def f(x):\n",
    "    return mp.exp(x)\n",
    "\n",
    "start = -0.5 * mp.log(2)\n",
    "stop = 0.5 * mp.log(2)"
   ]
  },
  {
   "cell_type": "code",
   "execution_count": 9,
   "id": "cd2ed6ec-31aa-470d-b7cb-a29d5925ed8f",
   "metadata": {},
   "outputs": [
    {
     "data": {
      "text/plain": [
       "(mpf('-0.346573590279972654708616060729088284037750067180127627060340004746696810984847357802931663498209343771000740510285342866842760117879065278516335375817537980965363785414185717595153519311945836735561675057682248977619560237586340787466032577762367069762941475226503547663183321327052119578907476021870204'),\n",
       " mpf('0.346573590279972654708616060729088284037750067180127627060340004746696810984847357802931663498209343771000740510285342866842760117879065278516335375817537980965363785414185717595153519311945836735561675057682248977619560237586340787466032577762367069762941475226503547663183321327052119578907476021870204'))"
      ]
     },
     "execution_count": 9,
     "metadata": {},
     "output_type": "execute_result"
    }
   ],
   "source": [
    "(start, stop)"
   ]
  },
  {
   "cell_type": "markdown",
   "id": "8276c2c2-d144-44e7-9c45-a5a9f1e15d9c",
   "metadata": {},
   "source": [
    "## Utils"
   ]
  },
  {
   "cell_type": "code",
   "execution_count": 10,
   "id": "51ce8eec-73c1-4604-9046-8f55c584c87a",
   "metadata": {},
   "outputs": [],
   "source": [
    "def linspace(start, stop, n):\n",
    "    return [start + (stop - start) * mp.mpf(i) / (n - 1) for i in range(n)]"
   ]
  },
  {
   "cell_type": "code",
   "execution_count": 11,
   "id": "6f37b5e0-2499-4f00-bb1f-255e384cc531",
   "metadata": {},
   "outputs": [],
   "source": [
    "def plot(h):\n",
    "    x = linspace(start, stop, 1000)\n",
    "    yf = [f(x) for x in x]\n",
    "    yh = [h(x) for x in x]\n",
    "    \n",
    "    e = [yh - yf for yh, yf in zip(yh, yf)]\n",
    "    em = np.max(np.abs(e))\n",
    "    print(f'Maximum absolute error: {float(em)}')\n",
    "    \n",
    "    fig = plt.figure()\n",
    "    ax1 = plt.subplot(211)\n",
    "    ax2 = plt.subplot(212, sharex = ax1)\n",
    "\n",
    "    ax1.set_title('Function approximation')\n",
    "    ax1.plot(x, yf, color='blue', label='truth')\n",
    "    ax1.plot(x, yh, color='orange', label='approximation')\n",
    "    ax1.legend()\n",
    "    \n",
    "    ax2.set_title('Approximation error')\n",
    "    ax2.plot(x, e, color='red', label='error')\n",
    "    ax2.axhline(0, color='black', linestyle='solid')\n",
    "    ax2.axhline(-em, color='red', linestyle='dashed')\n",
    "    ax2.axhline(em, color='red', linestyle='dashed')"
   ]
  },
  {
   "cell_type": "code",
   "execution_count": 12,
   "id": "cff34a12-9490-4af1-9f95-8e1668abc05f",
   "metadata": {},
   "outputs": [],
   "source": [
    "def plot_roots(q):\n",
    "    roots = mp.polyroots(list(reversed(q)), extraprec=200)\n",
    "    plt.scatter([root.real for root in roots], [root.imag for root in roots])"
   ]
  },
  {
   "cell_type": "markdown",
   "id": "2441a836-4e10-4ed3-a4a5-b704679ff31a",
   "metadata": {},
   "source": [
    "## Chebyshev"
   ]
  },
  {
   "cell_type": "code",
   "execution_count": 13,
   "id": "798425af-e3ea-4ca8-9d5e-91c0f4d436e8",
   "metadata": {},
   "outputs": [],
   "source": [
    "def chebyshev_nodes(start, stop, n):\n",
    "    x = []\n",
    "    c = (start + stop) / 2\n",
    "    s = (stop - start) / 2\n",
    "    for i in range(n):\n",
    "        f = (2 * mp.mpf(i) + 1 ) / (2 * n)\n",
    "        x.append(c + s * mp.cos(f * mp.pi))\n",
    "    return x"
   ]
  },
  {
   "cell_type": "code",
   "execution_count": 14,
   "id": "eb6de4a1-5a71-4726-abd4-e3bc6d513991",
   "metadata": {},
   "outputs": [],
   "source": [
    "def ratfn(p ,q):\n",
    "    pr = list(reversed(p))\n",
    "    qr = list(reversed(q))\n",
    "    def h(x):\n",
    "        return mp.polyval(pr, x) / mp.polyval(qr, x)\n",
    "    return h"
   ]
  },
  {
   "cell_type": "code",
   "execution_count": 15,
   "id": "b01a5b26-a9a5-4445-a731-bd855dbec092",
   "metadata": {},
   "outputs": [],
   "source": [
    "def rational(n, m):\n",
    "    global f, start, stop\n",
    "    x = chebyshev_nodes(start, stop, n + m - 1)\n",
    "    y = [f(x) for x in x]\n",
    "    M = mp.matrix(n + m - 1)\n",
    "    for i in range(M.rows):\n",
    "        for j in range(n):\n",
    "            M[i, j] = x[i] ** j\n",
    "        for j in range(m - 1):\n",
    "            M[i, j + n] = - y[i] * x[i] ** (j + 1)\n",
    "    r = list(mp.lu_solve(M, y))\n",
    "    p, q = r[:n], [mp.mpf(1)] + r[n:]\n",
    "    \n",
    "    # Make sure q has no roots in the domain\n",
    "    for root in mp.polyroots(list(reversed(q))):\n",
    "        # Real roots in the domain\n",
    "        if type(root) == mp.mpf and root >= start and root <= stop:\n",
    "            raise ZeroDivisionError(\"Zeros in denominator\")\n",
    "    \n",
    "    return (p, q, ratfn(p, q))"
   ]
  },
  {
   "cell_type": "markdown",
   "id": "c973c17a-c285-419a-97b8-fc4d8e28bb89",
   "metadata": {},
   "source": [
    "## Remez"
   ]
  },
  {
   "cell_type": "code",
   "execution_count": 16,
   "id": "6a49b032-78e5-4bee-adb6-60bab9fa73d0",
   "metadata": {},
   "outputs": [],
   "source": [
    "def golden_section_search(f, a, b):\n",
    "    c = b - (b - a) / mp.phi\n",
    "    d = a + (b - a) / mp.phi\n",
    "    while not mp.almosteq(a, b):\n",
    "        if f(c) < f(d):\n",
    "            b = d\n",
    "        else:\n",
    "            a = c\n",
    "        c = b - (b - a) / mp.phi\n",
    "        d = a + (b - a) / mp.phi\n",
    "    return (b + a) / 2"
   ]
  },
  {
   "cell_type": "code",
   "execution_count": 17,
   "id": "14f6db88-4b1b-4f8b-8df3-c733c2855ee6",
   "metadata": {},
   "outputs": [],
   "source": [
    "def winnow_extrema(x, y, n):\n",
    "    best = None\n",
    "    best_s = None\n",
    "    best_score = None\n",
    "    sx = x[:n]\n",
    "    sy = y[:n]\n",
    "    for s in itertools.combinations(range(len(x)), n):\n",
    "        assert len(s) == n\n",
    "        \n",
    "        # Construct candidate subsequence\n",
    "        for i, j in zip(range(n), s):\n",
    "            sx[i] = x[j]\n",
    "            sy[i] = y[j]\n",
    "        \n",
    "        # Test for alternating\n",
    "        alternating = True\n",
    "        for i in range(n - 1):\n",
    "            if mp.sign(sy[i]) != -mp.sign(sy[i + 1]):\n",
    "                alternating = False\n",
    "                break\n",
    "        if not alternating:\n",
    "            continue\n",
    "        \n",
    "        # Score sequence\n",
    "        score = (min([abs(sy) for sy in sy]), max([abs(sy) for sy in sy]))\n",
    "        # print(s, f'{(float(score[0]),float(score[1]))}')\n",
    "        if best_score is None or score > best_score:\n",
    "            best = (sx[:], sy[:])\n",
    "            best_s = s[:]\n",
    "            best_score = score\n",
    "    \n",
    "    if best is None:\n",
    "        raise \"No valid subsquence found\"\n",
    "    \n",
    "    # print(best_s, f'{(float(best_score[0]),float(best_score[1]))}')\n",
    "    return best"
   ]
  },
  {
   "cell_type": "code",
   "execution_count": 18,
   "id": "5bf466c1-84ab-4e6b-98a4-a82502cb4faa",
   "metadata": {},
   "outputs": [],
   "source": [
    "def remez_guess(h, n):\n",
    "    # Find initial extrema by grid search.\n",
    "    x = linspace(start, stop, 1000)\n",
    "    yf = [f(x) for x in x]\n",
    "    yh = [h(x) for x in x]\n",
    "    e = [yh - yf for yf, yh in zip(yf, yh)]\n",
    "    d = [n - p for n, p in zip(e[1:], e[:-1])]\n",
    "    xm = [start]\n",
    "    for i in range(len(d) - 1):\n",
    "        if mp.sign(d[i]) != mp.sign(d[i + 1]):\n",
    "            assert x[i] <= x[i + 1]\n",
    "            assert x[i + 1] <= x[i + 2]\n",
    "            # Refine by location\n",
    "            # TODO: Fix this, doesn't seem to work. Give it a _much_ wider range\n",
    "            sign =  -mp.sign(d[i])\n",
    "            xr = golden_section_search(lambda x: sign * (h(x) - f(x)), x[i], x[i+2])\n",
    "            #print(float(xr - x[i]))\n",
    "            xm += [xr]\n",
    "    xm += [stop]\n",
    "    assert len(xm) >= n\n",
    "    \n",
    "    # Refine by root finding\n",
    "    # TODO\n",
    "    \n",
    "    # Winnow\n",
    "    em = [h(x) - f(x) for x in xm]\n",
    "    xm, em = winnow_extrema(xm, em, n)\n",
    "    assert len(xm) == n\n",
    "    \n",
    "    return xm, em"
   ]
  },
  {
   "cell_type": "code",
   "execution_count": 19,
   "id": "23190920-89d2-4f7f-b703-474730ced8a8",
   "metadata": {},
   "outputs": [],
   "source": [
    "def remez_iter(p, q):\n",
    "    n = len(p)\n",
    "    m = len(q)\n",
    "    h = ratfn(p, q)\n",
    "    x, e = remez_guess(h, n + m)\n",
    "    \n",
    "    # Create matrix\n",
    "    y = [f(x) for x in x]\n",
    "    s = [mp.sign(e) for e in e]\n",
    "    def try_e(e_guess):\n",
    "        M = mp.matrix(n + m)\n",
    "        for i in range(M.rows):\n",
    "            for j in range(n):\n",
    "                M[i, j] = x[i] ** j\n",
    "            for j in range(m - 1):\n",
    "                M[i, j + n] = - (y[i] + s[i] * e_guess) * x[i] ** (j + 1)\n",
    "            M[i, n + m - 1] = - s[i]\n",
    "        r = list(mp.lu_solve(M, y))\n",
    "        p, q, e = r[:n], [mp.mpf(1)] + r[n:n + m - 1], r[-1]\n",
    "        return p, q, e\n",
    "    \n",
    "    e_guess = max([abs(e) for e in e])\n",
    "    iters = 0\n",
    "    while True:\n",
    "        # print(f'Error guess {float(e_guess)}')\n",
    "        p, q, e = try_e(e_guess)\n",
    "        # print(f'Error solved {float(e)}')\n",
    "        # print(f'Error delta {float(e_guess - e)}')\n",
    "        if mp.almosteq(e_guess, e):\n",
    "            break\n",
    "        iters += 1\n",
    "        if iters > 2000:\n",
    "            print(f'Converge failed afer {iters} iterations with {float(abs(e_guess - e))} error delta remaining.')\n",
    "            break\n",
    "        # TODO: Better iteration method\n",
    "        e_guess = (e_guess + e) / 2\n",
    "    print(f'Converged on e in {iters} iterations, e = {float(abs(e_guess))}')\n",
    "    \n",
    "    return p, q, ratfn(p, q)"
   ]
  },
  {
   "cell_type": "code",
   "execution_count": 20,
   "id": "9110638b-7588-462a-a9b9-3521b9b4d5c4",
   "metadata": {},
   "outputs": [],
   "source": [
    "def approx(n, m, r=5):\n",
    "    p, q, h = rational(n, m)\n",
    "    for i in range(r):\n",
    "        p, q, h = remez_iter(p, q)\n",
    "    return p, q, h"
   ]
  },
  {
   "cell_type": "code",
   "execution_count": 21,
   "id": "3e3e6c22-e550-429b-bc8c-d4bf852e9f17",
   "metadata": {},
   "outputs": [
    {
     "name": "stdout",
     "output_type": "stream",
     "text": [
      "Optimizing (12, 1)\n",
      "Converged on e in 61 iterations, e = 3.0682735224186422e-18\n",
      "Converged on e in 54 iterations, e = 3.068731509564711e-18\n",
      "Converged on e in 38 iterations, e = 3.0687315214310375e-18\n",
      "Converged on e in 7 iterations, e = 3.0687315214310375e-18\n",
      "Converged on e in 0 iterations, e = 3.0687315214310375e-18\n",
      "Optimizing (11, 2)\n",
      "Converged on e in 59 iterations, e = 2.785168608436631e-19\n",
      "Converged on e in 54 iterations, e = 2.789378229386319e-19\n",
      "Converged on e in 42 iterations, e = 2.789379333687539e-19\n",
      "Converged on e in 17 iterations, e = 2.7893793336875877e-19\n",
      "Converged on e in 0 iterations, e = 2.7893793336875877e-19\n",
      "Optimizing (10, 3)\n",
      "Converged on e in 58 iterations, e = 5.553345158454116e-20\n",
      "Converged on e in 53 iterations, e = 5.577201891853674e-20\n",
      "Converged on e in 42 iterations, e = 5.577219689124372e-20\n",
      "Converged on e in 21 iterations, e = 5.577219689130704e-20\n",
      "Converged on e in 0 iterations, e = 5.577219689130704e-20\n",
      "Optimizing (9, 4)\n",
      "Converged on e in 56 iterations, e = 1.8426062176126126e-20\n",
      "Converged on e in 52 iterations, e = 1.8582753621810878e-20\n",
      "Converged on e in 43 iterations, e = 1.8582985270733495e-20\n",
      "Converged on e in 24 iterations, e = 1.8582985271056528e-20\n",
      "Converged on e in 0 iterations, e = 1.8582985271056528e-20\n",
      "Optimizing (8, 5)\n",
      "Converged on e in 55 iterations, e = 9.15655405118131e-21\n",
      "Converged on e in 52 iterations, e = 9.285993394441892e-21\n",
      "Converged on e in 43 iterations, e = 9.286312041065342e-21\n",
      "Converged on e in 26 iterations, e = 9.286312042293663e-21\n",
      "Converged on e in 0 iterations, e = 9.286312042293663e-21\n",
      "Optimizing (7, 6)\n",
      "Converged on e in 55 iterations, e = 6.4903779017773225e-21\n",
      "Converged on e in 52 iterations, e = 6.627938409988165e-21\n",
      "Converged on e in 44 iterations, e = 6.628447287166781e-21\n",
      "Converged on e in 28 iterations, e = 6.6284472915786765e-21\n",
      "Converged on e in 0 iterations, e = 6.6284472915786765e-21\n",
      "Optimizing (6, 7)\n",
      "Converged on e in 55 iterations, e = 6.4310204247461806e-21\n",
      "Converged on e in 53 iterations, e = 6.621892200496441e-21\n",
      "Converged on e in 45 iterations, e = 6.622883798969281e-21\n",
      "Converged on e in 30 iterations, e = 6.6228838158415384e-21\n",
      "Converged on e in 0 iterations, e = 6.6228838158415384e-21\n",
      "Optimizing (5, 8)\n",
      "Converged on e in 55 iterations, e = 8.907805299373375e-21\n",
      "Converged on e in 54 iterations, e = 9.260495298363121e-21\n",
      "Converged on e in 47 iterations, e = 9.262947947381577e-21\n",
      "Converged on e in 32 iterations, e = 9.262948021733144e-21\n",
      "Converged on e in 3 iterations, e = 9.262948021733144e-21\n",
      "Optimizing (4, 9)\n",
      "Converged on e in 55 iterations, e = 1.7600567167206333e-20\n",
      "Converged on e in 56 iterations, e = 1.8497069407493564e-20\n",
      "Converged on e in 49 iterations, e = 1.850512197936556e-20\n",
      "Converged on e in 35 iterations, e = 1.8505122383990677e-20\n",
      "Converged on e in 7 iterations, e = 1.8505122383990677e-20\n",
      "Optimizing (3, 10)\n",
      "Converged on e in 56 iterations, e = 5.208930214043012e-20\n",
      "Converged on e in 58 iterations, e = 5.540782473657279e-20\n",
      "Converged on e in 51 iterations, e = 5.544527803695152e-20\n",
      "Converged on e in 38 iterations, e = 5.544528098683326e-20\n",
      "Converged on e in 11 iterations, e = 5.544528098683327e-20\n",
      "Optimizing (2, 11)\n",
      "Converged on e in 57 iterations, e = 2.5657035641906327e-19\n",
      "Converged on e in 61 iterations, e = 2.765598991397478e-19\n",
      "Converged on e in 55 iterations, e = 2.7683722572352864e-19\n",
      "Converged on e in 42 iterations, e = 2.768372584714227e-19\n",
      "Converged on e in 16 iterations, e = 2.7683725847142305e-19\n",
      "Optimizing (1, 12)\n",
      "Converged on e in 59 iterations, e = 2.7764385910409766e-18\n",
      "Converged on e in 65 iterations, e = 3.036152914324804e-18\n",
      "Converged on e in 59 iterations, e = 3.0405039504124936e-18\n",
      "Converged on e in 46 iterations, e = 3.0405046933216787e-18\n",
      "Converged on e in 21 iterations, e = 3.0405046933216965e-18\n"
     ]
    }
   ],
   "source": [
    "# Use medium precision to find the number of coefficients\n",
    "mp.prec = 128\n",
    "num_parameters = 12\n",
    "\n",
    "for j in range(num_parameters):\n",
    "    n = num_parameters - j\n",
    "    m = 1 + num_parameters - n\n",
    "    print(f'Optimizing ({n}, {m})')\n",
    "    try:\n",
    "        p, q, h = approx(n, m, 5)\n",
    "    except:\n",
    "        print(f'({n}, {m}) failed')"
   ]
  },
  {
   "cell_type": "code",
   "execution_count": 22,
   "id": "d16d2d35-e9a2-45fe-a8ef-890962b25c90",
   "metadata": {},
   "outputs": [
    {
     "name": "stdout",
     "output_type": "stream",
     "text": [
      "Converged on e in 898 iterations, e = 6.431020423872226e-21\n",
      "Converged on e in 937 iterations, e = 6.6218922005064336e-21\n",
      "Converged on e in 929 iterations, e = 6.622883798969185e-21\n",
      "Converged on e in 914 iterations, e = 6.6228838158415384e-21\n",
      "Converged on e in 882 iterations, e = 6.6228838158415384e-21\n",
      "Converged on e in 818 iterations, e = 6.6228838158415384e-21\n",
      "Converged on e in 690 iterations, e = 6.6228838158415384e-21\n",
      "Converged on e in 433 iterations, e = 6.6228838158415384e-21\n",
      "Converged on e in 0 iterations, e = 6.6228838158415384e-21\n",
      "Converged on e in 0 iterations, e = 6.6228838158415384e-21\n",
      "Converged on e in 0 iterations, e = 6.6228838158415384e-21\n",
      "Converged on e in 0 iterations, e = 6.6228838158415384e-21\n",
      "Maximum absolute error: 6.6228838158415384e-21\n"
     ]
    },
    {
     "name": "stderr",
     "output_type": "stream",
     "text": [
      "findfont: Font family ['CMU Serif'] not found. Falling back to DejaVu Sans.\n",
      "findfont: Font family ['CMU Serif'] not found. Falling back to DejaVu Sans.\n"
     ]
    },
    {
     "data": {
      "image/png": "[encoded data removed]",
      "text/plain": [
       "<Figure size 720x480 with 2 Axes>"
      ]
     },
     "metadata": {
      "needs_background": "light"
     },
     "output_type": "display_data"
    }
   ],
   "source": [
    "# Use very high precision to find the target rational function\n",
    "mp.prec = 1000\n",
    "\n",
    "p, q, h = approx(6, 7, 12)\n",
    "plot(h)"
   ]
  },
  {
   "cell_type": "code",
   "execution_count": 23,
   "id": "4cbf158a-5954-4aa4-8dae-afeab42e7956",
   "metadata": {},
   "outputs": [
    {
     "data": {
      "image/png": "[encoded data removed]",
      "text/plain": [
       "<Figure size 720x480 with 1 Axes>"
      ]
     },
     "metadata": {
      "needs_background": "light"
     },
     "output_type": "display_data"
    }
   ],
   "source": [
    "# Make sure the roots are not near the domain\n",
    "plot_roots(q)"
   ]
  },
  {
   "cell_type": "code",
   "execution_count": 24,
   "id": "1c7024a2-e3ba-4023-b6f7-7b22fb533db7",
   "metadata": {},
   "outputs": [],
   "source": [
    "# Rescale so q[-1] is 1\n",
    "pr = [pi / q[-1] for pi in p]\n",
    "qr = [qi / q[-1] for qi in q]"
   ]
  },
  {
   "cell_type": "code",
   "execution_count": 25,
   "id": "5947b306-9f1e-4261-bbcd-79b89d1c188d",
   "metadata": {},
   "outputs": [],
   "source": [
    "# Factor out scale s so p[-1] is 1\n",
    "ps = [pi / pr[-1] for pi in pr]\n",
    "s = pr[-1]"
   ]
  },
  {
   "cell_type": "code",
   "execution_count": 26,
   "id": "ee04b6d2-99b1-4d9c-a229-3279c3f63ae2",
   "metadata": {},
   "outputs": [
    {
     "name": "stdout",
     "output_type": "stream",
     "text": [
      "p5 = 79228162514264337593543950336 // 1.0\n",
      "p4 = 2772001395605857295435445496992 // 34.987576483384714\n",
      "p3 = 44335888930127919016834873520032 // 559.5975916031831\n",
      "p2 = 398888492587501845352592340339721 // 5034.680597517145\n",
      "p1 = 1993839819670624470859228494792842 // 25165.796560177085\n",
      "p0 = 4385272521454847904632057985693276 // 55349.9208146512\n",
      "\n",
      "q6 = 79228162514264337593543950336 // 1.0\n",
      "q5 = -2855989394907223263936484059900 // -36.04765406988995\n",
      "q4 = 50020603652535783019961831881945 // 631.3487788326532\n",
      "q3 = -533845033583426703283633433725380 // -6738.071623045815\n",
      "q2 = 3604857256930695427073651918091429 // 45499.69534231811\n",
      "q1 = -14423608567350463180887372962807573 // -182051.53457589805\n",
      "q0 = 26449188498355588339934803723976023 // 333835.6924987834\n",
      "\n",
      "s = 477854134370404556630342282363 // 6.031367120048645\n"
     ]
    }
   ],
   "source": [
    "# Print closest representable numbers\n",
    "def represent(x, base = 2**96):\n",
    "    n = int(mp.nint(x * base))\n",
    "    #if n < 0:\n",
    "    #    n += 2**256\n",
    "    # assert n >= 0 and n < 2**256\n",
    "    return n\n",
    "\n",
    "for i, pi in enumerate(reversed(ps)):\n",
    "    print(f'p{len(pr) - i - 1} = {represent(pi)} // {float(pi)}')\n",
    "print()\n",
    "\n",
    "for i, qi in enumerate(reversed(qr)):\n",
    "    print(f'q{len(qr) - i - 1} = {represent(qi)} // {float(qi)}')\n",
    "print()\n",
    "\n",
    "print(f's = {represent(s)} // {float(s)}')\n"
   ]
  },
  {
   "cell_type": "code",
   "execution_count": 27,
   "id": "6cc5e708-41d7-4da4-8356-e234883915b6",
   "metadata": {},
   "outputs": [
    {
     "name": "stdout",
     "output_type": "stream",
     "text": [
      "-32, -2535301200456458802993406410752, 1003358566231181\n",
      "-16, -1267650600228229401496703205376, 8915955111228592727647\n",
      "-8, -633825300114114700748351602688, 26578087600922394298733672\n",
      "-4, -316912650057057350374175801344, 1451114414429211511965335629\n",
      "-2, -158456325028528675187087900672, 10722365814184344471345157570\n",
      "-1, -79228162514264337593543950336, 29146412150787779157341161347\n"
     ]
    }
   ],
   "source": [
    "for i in reversed(range(6)):\n",
    "    e = -2**i\n",
    "    print(f'{e}, {represent(e)}, {represent(mp.exp(mp.mpf(e)))}')"
   ]
  },
  {
   "cell_type": "code",
   "execution_count": 28,
   "id": "2db35317-f91a-4c1c-ade1-5bde834b9fc8",
   "metadata": {},
   "outputs": [],
   "source": [
    "def eval_poly(c, x):\n",
    "    r = c[-1]\n",
    "    for c in reversed(c[:-1]):\n",
    "        # print(represent(r))\n",
    "        r = r * x + c\n",
    "    return r"
   ]
  },
  {
   "cell_type": "code",
   "execution_count": 29,
   "id": "82578dd2-67e3-42bd-b771-79114e3d3aff",
   "metadata": {},
   "outputs": [],
   "source": [
    "def range_reduce(x):\n",
    "    k = mp.nint(x / mp.log(2))\n",
    "    k = mp.floor(x / mp.log(2) + 0.5)\n",
    "    r = x - k * mp.log(2)\n",
    "    assert r >= start and r <= stop\n",
    "    return r, k"
   ]
  },
  {
   "cell_type": "code",
   "execution_count": 30,
   "id": "51dfac2e-c7eb-4632-a6ac-00b577f6e2d9",
   "metadata": {},
   "outputs": [],
   "source": [
    "x = linspace(-42, 135, 10000)\n",
    "#x = linspace(-5, 5, 10000)\n",
    "r = [range_reduce(x)[0] for x in x]\n",
    "k = [range_reduce(x)[1] for x in x]"
   ]
  },
  {
   "cell_type": "code",
   "execution_count": 31,
   "id": "672a451e-b4f9-46a0-94c5-b7cdcd3e8d69",
   "metadata": {},
   "outputs": [
    {
     "data": {
      "text/plain": [
       "<matplotlib.lines.Line2D at 0x1e64fd1d810>"
      ]
     },
     "execution_count": 31,
     "metadata": {},
     "output_type": "execute_result"
    },
    {
     "data": {
      "image/png": "[encoded data removed]",
      "text/plain": [
       "<Figure size 720x480 with 1 Axes>"
      ]
     },
     "metadata": {
      "needs_background": "light"
     },
     "output_type": "display_data"
    }
   ],
   "source": [
    "plt.plot(x, r)\n",
    "plt.axhline(start, color='red')\n",
    "plt.axhline(stop, color='red')"
   ]
  },
  {
   "cell_type": "code",
   "execution_count": 32,
   "id": "49f69cb3-34ac-420b-aa6e-2ad5685623d2",
   "metadata": {},
   "outputs": [
    {
     "data": {
      "text/plain": [
       "[<matplotlib.lines.Line2D at 0x1e64fd24fd0>]"
      ]
     },
     "execution_count": 32,
     "metadata": {},
     "output_type": "execute_result"
    },
    {
     "data": {
      "image/png": "[encoded data removed]",
      "text/plain": [
       "<Figure size 720x480 with 1 Axes>"
      ]
     },
     "metadata": {
      "needs_background": "light"
     },
     "output_type": "display_data"
    }
   ],
   "source": [
    "plt.plot(x, k)"
   ]
  },
  {
   "cell_type": "code",
   "execution_count": 33,
   "id": "85f061d9-5300-40fd-ae8b-c7fcd8ecddd9",
   "metadata": {},
   "outputs": [
    {
     "data": {
      "text/plain": [
       "(mpf('0.70710678118654752440084436210484903928483593768847403658833986899536623923105351942519376716382078636750692311545614851246241802792536860632206074854996791570661133296375279637789997525057639103028573505477998580298513726729843100736425870932044459930477616461524215435716072541988130181399762570399482'),\n",
       " mpf('1.41421356237309504880168872420969807856967187537694807317667973799073247846210703885038753432764157273501384623091229702492483605585073721264412149709993583141322266592750559275579995050115278206057147010955997160597027453459686201472851741864088919860955232923048430871432145083976260362799525140798964'))"
      ]
     },
     "execution_count": 33,
     "metadata": {},
     "output_type": "execute_result"
    }
   ],
   "source": [
    "mp.exp(start), mp.exp(stop)"
   ]
  },
  {
   "cell_type": "code",
   "execution_count": 34,
   "id": "a7888000-a36f-4072-ba9b-2068d00e6a3b",
   "metadata": {},
   "outputs": [
    {
     "data": {
      "text/plain": [
       "292"
      ]
     },
     "execution_count": 34,
     "metadata": {},
     "output_type": "execute_result"
    }
   ],
   "source": [
    "96 + 196"
   ]
  },
  {
   "cell_type": "code",
   "execution_count": 35,
   "id": "80ce0461-e9d1-4b89-8061-eb4337a4b433",
   "metadata": {},
   "outputs": [
    {
     "data": {
      "text/plain": [
       "mpf('138.379668208693678443119488674756839674326779482134932077441367779227924206749612447824795855386751033884813353259563700226551298157804408811097533864597495388828781940073685470015899501723195735311923852419813810709099435437346832840608230171985588941085674872502148222277991648605109967469376996817907')"
      ]
     },
     "execution_count": 35,
     "metadata": {},
     "output_type": "execute_result"
    }
   ],
   "source": [
    "mp.log(1.5 * 3814697265625 * 2**96) / mp.log(2)"
   ]
  },
  {
   "cell_type": "code",
   "execution_count": 36,
   "id": "e25e9a74-fe45-4b8f-b8aa-1b7e98b78aaf",
   "metadata": {},
   "outputs": [
    {
     "data": {
      "text/plain": [
       "117"
      ]
     },
     "execution_count": 36,
     "metadata": {},
     "output_type": "execute_result"
    }
   ],
   "source": [
    "256 - 139"
   ]
  },
  {
   "cell_type": "code",
   "execution_count": 37,
   "id": "62be9e87-3e12-47bc-97a2-dde4fb355da2",
   "metadata": {},
   "outputs": [
    {
     "data": {
      "text/plain": [
       "mpf('135305999368893231589.0')"
      ]
     },
     "execution_count": 37,
     "metadata": {},
     "output_type": "execute_result"
    }
   ],
   "source": [
    "mp.floor(mp.log((mp.mpf(2**255) - 1) / 1e18) * 1e18)"
   ]
  },
  {
   "cell_type": "code",
   "execution_count": 38,
   "id": "94699322-356a-4618-bd9f-8e958524d654",
   "metadata": {},
   "outputs": [
    {
     "data": {
      "text/plain": [
       "mpf('0.999999999999999999929655212483530877569766728018192362869417686818051178017752597128368320424192249784395744044680814630248294964763511770920471528650608178598336790245265191580484952312620943338241976905928102216036830074426834523270259530716635472238779114158360449930139768335757820081157697843599995')"
      ]
     },
     "execution_count": 38,
     "metadata": {},
     "output_type": "execute_result"
    }
   ],
   "source": [
    "mp.exp(mp.mpf(135305999368893231589) / 1e18) * 1e18 / 2**255"
   ]
  },
  {
   "cell_type": "code",
   "execution_count": 39,
   "id": "71b493e2-64a5-4b64-bcc7-f0a825c91587",
   "metadata": {},
   "outputs": [
    {
     "data": {
      "text/plain": [
       "5.78960446186581e+58"
      ]
     },
     "execution_count": 39,
     "metadata": {},
     "output_type": "execute_result"
    }
   ],
   "source": [
    "57896044618658097649809650851135836446708721278684416180224000000000000000000 / 1e18"
   ]
  },
  {
   "cell_type": "code",
   "execution_count": 40,
   "id": "c32cd298-007f-4b9e-809d-64edbfaf8e32",
   "metadata": {},
   "outputs": [
    {
     "data": {
      "text/plain": [
       "mpf('-4203992104768750933177207628066772048716376.03758954491510690806025367038828226400615489325675158678787492058150995687982700561708072814617255365012456226238539983027868771731481569268382369587111070171523042515049107353970975278521261359345889650565804089519220012041164923538713278294176411002229243313')"
      ]
     },
     "execution_count": 40,
     "metadata": {},
     "output_type": "execute_result"
    }
   ],
   "source": [
    "mp.exp(mp.mpf(135305999368893231588) / 1e18) - 57896044618658097649809650851135836446708721278684416180224000000000000000000 / 1e18"
   ]
  },
  {
   "cell_type": "code",
   "execution_count": 41,
   "id": "697b5b01-97ae-4a16-b3e3-dae77e65903b",
   "metadata": {},
   "outputs": [
    {
     "data": {
      "text/plain": [
       "195"
      ]
     },
     "execution_count": 41,
     "metadata": {},
     "output_type": "execute_result"
    }
   ],
   "source": [
    "117 + 78"
   ]
  },
  {
   "cell_type": "code",
   "execution_count": 42,
   "id": "6e6554ca-2b61-4426-b3d5-5a984c91b7b3",
   "metadata": {},
   "outputs": [
    {
     "data": {
      "text/plain": [
       "1.2621774483536189e-11"
      ]
     },
     "execution_count": 42,
     "metadata": {},
     "output_type": "execute_result"
    }
   ],
   "source": [
    "5**18 / 2**78"
   ]
  },
  {
   "cell_type": "code",
   "execution_count": 43,
   "id": "fadfc99f-7d8c-471e-b512-fb2299f2146b",
   "metadata": {},
   "outputs": [
    {
     "data": {
      "text/plain": [
       "383"
      ]
     },
     "execution_count": 43,
     "metadata": {},
     "output_type": "execute_result"
    }
   ],
   "source": [
    "1104 - 721"
   ]
  },
  {
   "cell_type": "code",
   "execution_count": 44,
   "id": "f5d9567e-0ba6-4dff-b274-2b6499269f6b",
   "metadata": {},
   "outputs": [
    {
     "data": {
      "text/plain": [
       "500"
      ]
     },
     "execution_count": 44,
     "metadata": {},
     "output_type": "execute_result"
    }
   ],
   "source": [
    "1604 - 1104"
   ]
  },
  {
   "cell_type": "code",
   "execution_count": 45,
   "id": "05ca866f-d630-427f-b9cf-e581bdd15241",
   "metadata": {},
   "outputs": [
    {
     "data": {
      "text/plain": [
       "135.30599936889323"
      ]
     },
     "execution_count": 45,
     "metadata": {},
     "output_type": "execute_result"
    }
   ],
   "source": [
    "135305999368893231589 / 1e18"
   ]
  },
  {
   "cell_type": "code",
   "execution_count": 46,
   "id": "d0eb783d-3073-4148-8542-802b1d401b21",
   "metadata": {},
   "outputs": [
    {
     "data": {
      "text/plain": [
       "456"
      ]
     },
     "execution_count": 46,
     "metadata": {},
     "output_type": "execute_result"
    }
   ],
   "source": [
    "1557 - 1101"
   ]
  },
  {
   "cell_type": "code",
   "execution_count": 47,
   "id": "5a7ee7a3-dccc-4711-a38f-44c056908f66",
   "metadata": {},
   "outputs": [
    {
     "data": {
      "text/plain": [
       "456"
      ]
     },
     "execution_count": 47,
     "metadata": {},
     "output_type": "execute_result"
    }
   ],
   "source": [
    "2013 - 1557"
   ]
  },
  {
   "cell_type": "code",
   "execution_count": 48,
   "id": "c33e4abc-c28d-4890-903a-aced429a4992",
   "metadata": {},
   "outputs": [
    {
     "data": {
      "text/plain": [
       "6.031367120048645"
      ]
     },
     "execution_count": 48,
     "metadata": {},
     "output_type": "execute_result"
    }
   ],
   "source": [
    "477854134370404556630342282363 / 2**96"
   ]
  },
  {
   "cell_type": "code",
   "execution_count": 49,
   "id": "318520ef-be15-4cdc-9fa4-fd943ccd1ec5",
   "metadata": {},
   "outputs": [
    {
     "data": {
      "text/plain": [
       "3822833074963236453042738258904000000000000000000"
      ]
     },
     "execution_count": 49,
     "metadata": {},
     "output_type": "execute_result"
    }
   ],
   "source": [
    "477854134370404556630342282363 * 5**18 * 2**21"
   ]
  },
  {
   "cell_type": "code",
   "execution_count": 50,
   "id": "662d87fe-9f68-4d19-85cd-2c4a93266a01",
   "metadata": {},
   "outputs": [
    {
     "data": {
      "text/plain": [
       "3822833074963236453042738258902158003155416615667"
      ]
     },
     "execution_count": 50,
     "metadata": {},
     "output_type": "execute_result"
    }
   ],
   "source": [
    "represent(s * 5**18 * 2**21)"
   ]
  },
  {
   "cell_type": "code",
   "execution_count": 51,
   "id": "a53fea42-273d-4e26-acf7-03a75ec385df",
   "metadata": {},
   "outputs": [
    {
     "data": {
      "text/plain": [
       "mpf('6.03136712004864557952315856198929863614111669874514109730927255939775680189403952220316710517480306071594208850188477877556735820804525198969457536138443146546121200321637431614490926955571913002360587339935400415355775801290915954341637830662850520033777442238469479074206810293790783703899105664307627')"
      ]
     },
     "execution_count": 51,
     "metadata": {},
     "output_type": "execute_result"
    }
   ],
   "source": [
    "s"
   ]
  },
  {
   "cell_type": "code",
   "execution_count": 52,
   "id": "554405ea-ceac-4988-a7a4-f66d1578ad1b",
   "metadata": {},
   "outputs": [
    {
     "data": {
      "text/plain": [
       "mpf('0.0994799334972600239893273185070413787335074214738769293354171471956504620526585596986367195163103066279063471406432600230139165007154885810944805265755928219843064326354566914276197210894307756242053606209666678736437204963128430904580314889774733079922160401934185474798117148195527088036031325044432472')"
      ]
     },
     "execution_count": 52,
     "metadata": {},
     "output_type": "execute_result"
    }
   ],
   "source": [
    "0.6/s"
   ]
  },
  {
   "cell_type": "code",
   "execution_count": 53,
   "id": "840361be-3f90-4719-84c2-6c0b9e4dc8d7",
   "metadata": {},
   "outputs": [
    {
     "data": {
      "text/plain": [
       "mpf('0.248699833743150069177061017670724671979300081715420282379222122103761857021323047513692562854944835063364612722940710747049408285683428782806373677021051744231880843861395251251836076661195759287526020891650385091147506412245385389313916662857437054747853228989516913562217655401488664162872716506454342')"
      ]
     },
     "execution_count": 53,
     "metadata": {},
     "output_type": "execute_result"
    }
   ],
   "source": [
    "1.5/s"
   ]
  },
  {
   "cell_type": "code",
   "execution_count": 54,
   "id": "c3707f80-e672-48b8-a9a5-d6dd04cfbc41",
   "metadata": {},
   "outputs": [
    {
     "data": {
      "text/plain": [
       "195"
      ]
     },
     "execution_count": 54,
     "metadata": {},
     "output_type": "execute_result"
    }
   ],
   "source": [
    "117 + 78"
   ]
  },
  {
   "cell_type": "code",
   "execution_count": 55,
   "id": "8145236a-4c98-4db5-a49e-cf1fc0b90234",
   "metadata": {},
   "outputs": [
    {
     "data": {
      "text/plain": [
       "mpf('28.898879583742194740518933893551330569746228620362419965801036268202386170344752910745016203345872515905709810377375556393097716588818256575970464035650775206192284568402566655534694493913882576113654678225143931246826195058745188449972931153942973841562796403878425278009083661969201342555136577662302')"
      ]
     },
     "execution_count": 55,
     "metadata": {},
     "output_type": "execute_result"
    }
   ],
   "source": [
    "mp.log(2**96)/mp.log(10)"
   ]
  },
  {
   "cell_type": "code",
   "execution_count": 56,
   "id": "190041d8-e38d-4212-bcce-3743639f61d5",
   "metadata": {},
   "outputs": [
    {
     "data": {
      "text/plain": [
       "79228162514264337593543950336"
      ]
     },
     "execution_count": 56,
     "metadata": {},
     "output_type": "execute_result"
    }
   ],
   "source": [
    "2**96"
   ]
  },
  {
   "cell_type": "code",
   "execution_count": 57,
   "id": "de14f1f7-56a0-43e7-bcba-375dbcc3cc2d",
   "metadata": {},
   "outputs": [
    {
     "data": {
      "text/plain": [
       "10000000000000000000000000000"
      ]
     },
     "execution_count": 57,
     "metadata": {},
     "output_type": "execute_result"
    }
   ],
   "source": [
    "10**28"
   ]
  },
  {
   "cell_type": "code",
   "execution_count": 58,
   "id": "5bb74c2b-519b-4979-afbe-16f70676af05",
   "metadata": {},
   "outputs": [
    {
     "data": {
      "text/plain": [
       "-146.73474607677622"
      ]
     },
     "execution_count": 58,
     "metadata": {},
     "output_type": "execute_result"
    }
   ],
   "source": [
    "-146734746076776222436 / 1e18"
   ]
  },
  {
   "cell_type": "code",
   "execution_count": 59,
   "id": "b823a8e7-02c7-470c-8c32-a0995b5e1c81",
   "metadata": {},
   "outputs": [
    {
     "data": {
      "text/plain": [
       "0.14796973608038283"
      ]
     },
     "execution_count": 59,
     "metadata": {},
     "output_type": "execute_result"
    }
   ],
   "source": [
    "11723370297369374509729453784 / 2**96"
   ]
  },
  {
   "cell_type": "code",
   "execution_count": 60,
   "id": "0120f1da-25fd-46cd-9236-80597c51fa99",
   "metadata": {},
   "outputs": [
    {
     "data": {
      "text/plain": [
       "mpf('148.413159102576602797754083563570111419653820541465285237666042237698759889625988360891040035965826369113610383319083172246154719918203608319123322448591962360409021343976357096610477205469832985887818694692235881954573458875421906196628354792740184032576721445531220311788045498028288403446882565129333')"
      ]
     },
     "execution_count": 60,
     "metadata": {},
     "output_type": "execute_result"
    }
   ],
   "source": [
    "2**7 * mp.exp(11723370297369374509729453784 / 2**96)"
   ]
  },
  {
   "cell_type": "code",
   "execution_count": 61,
   "id": "34153b1c-2872-496e-8d16-e68aa6f5528a",
   "metadata": {},
   "outputs": [
    {
     "data": {
      "text/plain": [
       "0.19224129163597126"
      ]
     },
     "execution_count": 61,
     "metadata": {},
     "output_type": "execute_result"
    }
   ],
   "source": [
    "15230924295686815968900942473 / 2**96"
   ]
  },
  {
   "cell_type": "code",
   "execution_count": 62,
   "id": "5eab4603-a8bb-429b-8d46-94b61a584660",
   "metadata": {},
   "outputs": [
    {
     "data": {
      "text/plain": [
       "58225281159812697126805713314171885814935114840302346943497197419720317524491"
      ]
     },
     "execution_count": 62,
     "metadata": {},
     "output_type": "execute_result"
    }
   ],
   "source": [
    "15230924295686815968900942473 * 3822833074963236453042738258902158003155416615667"
   ]
  },
  {
   "cell_type": "code",
   "execution_count": 63,
   "id": "d0e707f5-dd91-4072-a8ae-d47da51e839f",
   "metadata": {},
   "outputs": [
    {
     "data": {
      "text/plain": [
       "1.0056866845278147"
      ]
     },
     "execution_count": 63,
     "metadata": {},
     "output_type": "execute_result"
    }
   ],
   "source": [
    "(15230924295686815968900942473 * 3822833074963236453042738258902158003155416615667) / 2**255"
   ]
  },
  {
   "cell_type": "code",
   "execution_count": 64,
   "id": "2c9effe4-1b78-4e9c-8bf0-97c688f3d67a",
   "metadata": {},
   "outputs": [
    {
     "data": {
      "text/plain": [
       "1911416537481618226521369129451079001577708307833"
      ]
     },
     "execution_count": 64,
     "metadata": {},
     "output_type": "execute_result"
    }
   ],
   "source": [
    "3822833074963236453042738258902158003155416615667 // 2"
   ]
  },
  {
   "cell_type": "code",
   "execution_count": 65,
   "id": "c8ca6912-4d81-48d0-852e-a3a987206f3d",
   "metadata": {},
   "outputs": [
    {
     "data": {
      "text/plain": [
       "194"
      ]
     },
     "execution_count": 65,
     "metadata": {},
     "output_type": "execute_result"
    }
   ],
   "source": [
    "116+78"
   ]
  },
  {
   "cell_type": "code",
   "execution_count": 66,
   "id": "aa6b330d-a300-4ff0-8b0a-d18f9158b850",
   "metadata": {},
   "outputs": [
    {
     "data": {
      "text/plain": [
       "148413159102576603421"
      ]
     },
     "execution_count": 66,
     "metadata": {},
     "output_type": "execute_result"
    }
   ],
   "source": [
    "int(mp.nint(mp.exp(5) *1e18))"
   ]
  },
  {
   "cell_type": "markdown",
   "id": "0dbdffe1-8909-439a-85f7-438b6580eb0d",
   "metadata": {},
   "source": [
    "## Knuth explicit formula for 7-term polynomial q"
   ]
  },
  {
   "cell_type": "code",
   "execution_count": 67,
   "id": "5ae9eda5-1fe7-486c-9ddb-54b9db30a002",
   "metadata": {},
   "outputs": [],
   "source": [
    "def alpha(u, root=0):\n",
    "    b = [mp.mpf(0)] * 9\n",
    "    b[1] = (u[5] - 1) / 2\n",
    "    b[2] = u[4] - b[1] * (b[1] + 1)\n",
    "    b[3] = u[3] - b[1] * b[2]\n",
    "    b[4] = b[1] - b[2]\n",
    "    b[5] = u[2] - b[1] * b[3]\n",
    "    \n",
    "    coeff = [\n",
    "        u[1] - b[2] * b[5],\n",
    "        2 * b[5] - b[2] * b[4] - b[3],\n",
    "        2 * b[4] - b[2] + 1,\n",
    "        mp.mpf(2)\n",
    "    ]\n",
    "    roots = mp.polyroots(list(reversed(coeff)), extraprec=100)\n",
    "    b[6] = roots[root]\n",
    "    \n",
    "    b[7] = b[6]**2 + b[4] * b[6] + b[5]\n",
    "    b[8] = b[3] - b[6] - b[7]\n",
    "    \n",
    "    a = [mp.mpf(0)] * 6\n",
    "    a[0] = b[2] - 2 * b[6]\n",
    "    a[2] = b[1] - a[0]\n",
    "    a[1] = b[6] - a[0] * a[2]\n",
    "    a[3] = b[7] - a[1] * a[2]\n",
    "    a[4] = b[8] - b[7] - a[1]\n",
    "    a[5] = u[0] - b[7] * b[8]\n",
    "    \n",
    "    return a"
   ]
  },
  {
   "cell_type": "code",
   "execution_count": 68,
   "id": "3cb44253-d3d2-423a-9e90-c8a6f09779ba",
   "metadata": {},
   "outputs": [],
   "source": [
    "def eval_knuth(a, x):\n",
    "    print(represent(x))\n",
    "    z = (x + a[0]) * x + a[1]\n",
    "    print(represent(z))\n",
    "    w = (x + a[2]) * z + a[3]\n",
    "    print(represent(w))\n",
    "    u = (w + z + a[4]) * w + a[5]\n",
    "    print(represent(u))\n",
    "    return u"
   ]
  },
  {
   "cell_type": "code",
   "execution_count": 69,
   "id": "9508a108-f5d4-4309-b620-968854a1369c",
   "metadata": {},
   "outputs": [
    {
     "data": {
      "text/plain": [
       "[mpf('3.0'), mpf('-7.0'), mpf('3.0'), mpf('16.0'), mpf('6.0'), mpf('-27.0')]"
      ]
     },
     "execution_count": 69,
     "metadata": {},
     "output_type": "execute_result"
    }
   ],
   "source": [
    "# Knuth's example\n",
    "alpha([mp.mpf(x) for x in [3, -37, -61, 33, 49, 13, 1]], root=1)"
   ]
  },
  {
   "cell_type": "code",
   "execution_count": 70,
   "id": "2a0635b1-d4ae-446d-a29f-c3cf8b1c5123",
   "metadata": {},
   "outputs": [],
   "source": [
    "qa = alpha(qr)"
   ]
  },
  {
   "cell_type": "code",
   "execution_count": 71,
   "id": "0e4beb49-267e-49d0-b28e-98bdc30b2137",
   "metadata": {},
   "outputs": [
    {
     "name": "stdout",
     "output_type": "stream",
     "text": [
      "792281625142643375935439503360\n",
      "48216574280656016718393701190044\n",
      "25197191960878039318086292520920\n",
      "2689054483393637354306695345160938\n"
     ]
    },
    {
     "data": {
      "text/plain": [
       "(mpf('33940.6392633364003325682591863775752607548877694584357065028225429751234565231771220428887816390463416994077120539647912124225385434116695253366237435058847036677648591715548293619916304689748921014894659373932711714429029088930502157727678743432927419922767834626946515301627986457193588184253788470536'),\n",
       " mpf('33940.6392633364003325682591863775752607548877694584357065028225429751234565231771220428887816390463416994077120539647912124225385434116695253366237435058847036677648591715548293619916304689748921014894659373932711714429029088930502157727678743432927419922767834626946515301627986457193588184253788470414'))"
      ]
     },
     "execution_count": 71,
     "metadata": {},
     "output_type": "execute_result"
    }
   ],
   "source": [
    "eval_knuth(qa, mp.mpf(10)), eval_poly(qr, mp.mpf(10))"
   ]
  },
  {
   "cell_type": "code",
   "execution_count": 72,
   "id": "62728167-2b80-4e38-932e-433382ec9f98",
   "metadata": {},
   "outputs": [
    {
     "name": "stdout",
     "output_type": "stream",
     "text": [
      "a_0 = 750530180792738023273180420736\n",
      "a_1 = 32788456221302202726307501949080\n",
      "a_2 = -2218138959503481824038194425854\n",
      "a_3 = 892943633302991980437332862907700\n",
      "a_4 = -78174809823045304726920794422040\n",
      "a_5 = 4203224763890128580604056984195872\n"
     ]
    }
   ],
   "source": [
    "for i, a in enumerate(qa):\n",
    "    print(f'a_{i} = {represent(a)}')"
   ]
  },
  {
   "cell_type": "code",
   "execution_count": 73,
   "id": "83893ef4-6067-48e0-8df6-f8330292183b",
   "metadata": {},
   "outputs": [
    {
     "data": {
      "text/plain": [
       "0.14796973608038283"
      ]
     },
     "execution_count": 73,
     "metadata": {},
     "output_type": "execute_result"
    }
   ],
   "source": [
    "11723370297369374509729453784 / 2**96"
   ]
  },
  {
   "cell_type": "code",
   "execution_count": 74,
   "id": "3fa8e689-73c1-4cc7-b697-03f231c74653",
   "metadata": {},
   "outputs": [
    {
     "name": "stdout",
     "output_type": "stream",
     "text": [
      "11723370297369374509729453784\n",
      "32901246678083340530892776720321\n",
      "-23319236756237536982852715105152\n",
      "24392153673876097338736908011219514\n"
     ]
    },
    {
     "data": {
      "text/plain": [
       "mpf('307872.262839422830813564365857993041028569798668906680515254072111391286606501248870641361710735079668993993981358383107558187381280616570252651936880082711960105603047126881730279378250476918573439856447168020088340568526447960481495475414067089415987250335058246330910296857624352215439997449188695355')"
      ]
     },
     "execution_count": 74,
     "metadata": {},
     "output_type": "execute_result"
    }
   ],
   "source": [
    "eval_knuth(qa, mp.mpf(11723370297369374509729453784) / 2**96)"
   ]
  },
  {
   "cell_type": "markdown",
   "id": "b9dc413e-84de-4038-9b81-e4f07ba6643a",
   "metadata": {},
   "source": [
    "## Knuth explicit formula for 6-term polynomial p"
   ]
  },
  {
   "cell_type": "code",
   "execution_count": 75,
   "id": "4d1fd312-2c6a-4802-9f97-e3dc97024960",
   "metadata": {},
   "outputs": [
    {
     "data": {
      "text/plain": [
       "[mpf('55349.9208146512037099932492742768790032776866251732540539497786874794377327112267517246827759200494752549050144458012707920185168382286789810324801386514069539980983201355037337619406829024703788717470573249061862863808743590268693220557705537079009231940456358548388318839648779328721678093130206491165'),\n",
       " mpf('25165.7965601770841639097143382802041702991350645376057038734792704624136972006971124896753649347501815815465126835316186027005678801158323009278269868797444888605900886136213760307622717383144510386411447006324880711863649114697299595430945155892448180809189720265976954102437249274537231945197209889597'),\n",
       " mpf('5034.6805975171450130998836438325313038403524914336110563718752383657915261450399558661420599289386669314751272185460480417993591652961513742310013740109465478849874087939030371073591710239379595643953133184713957043034904489121343725089848133576960717874302501866678525575080921085760118113177398646306'),\n",
       " mpf('559.597591603183149093896172209858109506097565111846119382800097211733694203870410151108067991656169454597500944882402879787412012170291018167804582132133058771085507355799995801629314170978708520871505435624366600183151592795081829843766737549215642504541780329111399254961282462722225283839637925582388'),\n",
       " mpf('34.9875764833847142787958344135432293418378678678598085823871423110219670399747946467905652211907227220803330863523174319505255498258926399427896353863469154989144869261320664746035718591600250423946624829381206224916822287059101617695748368482002177949917611925562704751868066182465939074381822799636247'),\n",
       " mpf('1.0')]"
      ]
     },
     "execution_count": 75,
     "metadata": {},
     "output_type": "execute_result"
    }
   ],
   "source": [
    "ps"
   ]
  },
  {
   "cell_type": "code",
   "execution_count": 76,
   "id": "94a89f54-74bb-448a-b2db-b2337a474b63",
   "metadata": {},
   "outputs": [],
   "source": [
    "def alpha(u):\n",
    "    u0 = u[0]\n",
    "    u = u[1:]\n",
    "    \n",
    "    a = [mp.mpf(0)] * 5\n",
    "    a[0] = (u[3] - 1) / 2\n",
    "    b = u[2] - a[0] * (a[0] + 1)\n",
    "    a[1] = u[1] - a[0] * b\n",
    "    a[2] = b - 2 * a[1]\n",
    "    a[3] = u[0] - a[1] * (a[1] + a[2])\n",
    "    a[4] = u0\n",
    "    \n",
    "    return a"
   ]
  },
  {
   "cell_type": "code",
   "execution_count": 77,
   "id": "1d916f44-57df-45fa-a73d-7a77ff4953cc",
   "metadata": {},
   "outputs": [],
   "source": [
    "def eval_knuth(a, x):\n",
    "    y = (x + a[0]) * x + a[1]\n",
    "    u = y + x + a[2]\n",
    "    u = u * y + a[3]\n",
    "    u = u * x + a[4]\n",
    "    return u"
   ]
  },
  {
   "cell_type": "code",
   "execution_count": 78,
   "id": "867b5b46-0073-4c7a-9598-d680d64e8e1d",
   "metadata": {},
   "outputs": [],
   "source": [
    "pa = alpha(ps)"
   ]
  },
  {
   "cell_type": "code",
   "execution_count": 79,
   "id": "4bf2d37b-ae86-4f1b-b870-00fff1d723de",
   "metadata": {},
   "outputs": [
    {
     "name": "stdout",
     "output_type": "stream",
     "text": [
      "a_0 = 1346386616545796478920950773328\n",
      "a_1 = 57155421227552351082224309758442\n",
      "a_2 = -94201549194550492254356042504812\n",
      "a_3 = 28719021644029726153956944680412240\n",
      "a_4 = 4385272521454847904632057985693276\n"
     ]
    }
   ],
   "source": [
    "for i, a in enumerate(pa):\n",
    "    print(f'a_{i} = {represent(a)}')"
   ]
  },
  {
   "cell_type": "code",
   "execution_count": 80,
   "id": "52ea7a27-a404-42df-b1a7-085efd493909",
   "metadata": {},
   "outputs": [
    {
     "data": {
      "text/plain": [
       "(mpf('1819949.30260516683854093327338562245401478053020435462193654361555063609192284055008224936262172481465961871467154129946029162762259821955700911182340414572039133311670278268175247051326525836979051582010118394346252856744821912105370790030307658777673720565262946170504856655998325317493910774494222091'),\n",
       " mpf('1819949.30260516683854093327338562245401478053020435462193654361555063609192284055008224936262172481465961871467154129946029162762259821955700911182340414572039133311670278268175247051326525836979051582010118394346252856744821912105370790030307658777673720565262946170504856655998325317493910774494222032'))"
      ]
     },
     "execution_count": 80,
     "metadata": {},
     "output_type": "execute_result"
    }
   ],
   "source": [
    "eval_knuth(pa, mp.mpf(10)), eval_poly(ps, mp.mpf(10))"
   ]
  },
  {
   "cell_type": "code",
   "execution_count": null,
   "id": "b7074abf-6cf7-4c58-9ebd-64fb4ee98cee",
   "metadata": {},
   "outputs": [],
   "source": []
  }
 ],
 "metadata": {
  "kernelspec": {
   "display_name": "Python 3 (ipykernel)",
   "language": "python",
   "name": "python3"
  },
  "language_info": {
   "codemirror_mode": {
    "name": "ipython",
    "version": 3
   },
   "file_extension": ".py",
   "mimetype": "text/x-python",
   "name": "python",
   "nbconvert_exporter": "python",
   "pygments_lexer": "ipython3",
   "version": "3.10.2"
  }
 },
 "nbformat": 4,
 "nbformat_minor": 5
}
